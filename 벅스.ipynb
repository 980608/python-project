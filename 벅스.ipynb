{
  "nbformat": 4,
  "nbformat_minor": 0,
  "metadata": {
    "colab": {
      "name": "벅스.ipynb",
      "provenance": [],
      "authorship_tag": "ABX9TyPQMegXOhW2Ulj/9qps+0MJ",
      "include_colab_link": true
    },
    "kernelspec": {
      "name": "python3",
      "display_name": "Python 3"
    },
    "language_info": {
      "name": "python"
    }
  },
  "cells": [
    {
      "cell_type": "markdown",
      "metadata": {
        "id": "view-in-github",
        "colab_type": "text"
      },
      "source": [
        "<a href=\"https://colab.research.google.com/github/980608/python-project/blob/main/%EB%B2%85%EC%8A%A4.ipynb\" target=\"_parent\"><img src=\"https://colab.research.google.com/assets/colab-badge.svg\" alt=\"Open In Colab\"/></a>"
      ]
    },
    {
      "cell_type": "code",
      "metadata": {
        "id": "nPKuNPAQJyq3"
      },
      "source": [
        "import requests  # 웹페이지 읽어오기\n",
        "from bs4 import BeautifulSoup as bs \n",
        "import pandas as pd"
      ],
      "execution_count": null,
      "outputs": []
    },
    {
      "cell_type": "code",
      "metadata": {
        "id": "ErBwAiIZKF0I"
      },
      "source": [
        "url = 'https://music.bugs.co.kr/chart'\n",
        "\n",
        "html = requests.get(url)\n",
        "\n",
        "soup = bs(html.text, 'html.parser')"
      ],
      "execution_count": null,
      "outputs": []
    },
    {
      "cell_type": "code",
      "metadata": {
        "id": "z7dPNk9sK8Pi"
      },
      "source": [
        "print(soup)"
      ],
      "execution_count": null,
      "outputs": []
    },
    {
      "cell_type": "code",
      "metadata": {
        "colab": {
          "base_uri": "https://localhost:8080/"
        },
        "id": "eLJZA9B1OEPv",
        "outputId": "42455de4-4e57-40d6-9c28-e62282d94700"
      },
      "source": [
        "songs = soup.select('tr')\n",
        "len(songs)"
      ],
      "execution_count": null,
      "outputs": [
        {
          "output_type": "execute_result",
          "data": {
            "text/plain": [
              "104"
            ]
          },
          "metadata": {},
          "execution_count": 11
        }
      ]
    },
    {
      "cell_type": "code",
      "metadata": {
        "colab": {
          "base_uri": "https://localhost:8080/"
        },
        "id": "ahwO_8sNO95D",
        "outputId": "75f1e20a-5972-43b1-f699-8b5d45034b68"
      },
      "source": [
        "songs = soup.select('table.byChart > tbody > tr')\n",
        "len(songs)"
      ],
      "execution_count": null,
      "outputs": [
        {
          "output_type": "execute_result",
          "data": {
            "text/plain": [
              "100"
            ]
          },
          "metadata": {},
          "execution_count": 17
        }
      ]
    },
    {
      "cell_type": "code",
      "metadata": {
        "id": "STb0yBk0PNWv"
      },
      "source": [
        "song = songs[0]"
      ],
      "execution_count": null,
      "outputs": []
    },
    {
      "cell_type": "code",
      "metadata": {
        "colab": {
          "base_uri": "https://localhost:8080/"
        },
        "id": "k8U5fcRIPodm",
        "outputId": "ac501cb7-a80b-498d-c224-084ea17de43f"
      },
      "source": [
        "title = song.select('p > a')\n",
        "singer = song.select('p > a')\n",
        "len(title)"
      ],
      "execution_count": null,
      "outputs": [
        {
          "output_type": "execute_result",
          "data": {
            "text/plain": [
              "2"
            ]
          },
          "metadata": {},
          "execution_count": 34
        }
      ]
    },
    {
      "cell_type": "code",
      "metadata": {
        "colab": {
          "base_uri": "https://localhost:8080/"
        },
        "id": "tVNx5NbNQbKq",
        "outputId": "b76d0079-4714-4c68-bea5-20a3c75339d6"
      },
      "source": [
        "tltle = song.select('p.title > a')[0].text\n",
        "\n",
        "                                    \n",
        "print(title)"
      ],
      "execution_count": null,
      "outputs": [
        {
          "output_type": "stream",
          "name": "stdout",
          "text": [
            "[<a adultcheckval=\"1\" aria-label=\"새창\" href=\"javascript:;\" onclick=\"bugs.wiselog.area('list_tr_09_chart');bugs.music.listen('32381760',true);\r\n",
            "\" title=\"회전목마 (Feat. Zion.T, 원슈타인) (Prod. Slom)\">회전목마 (Feat. Zion.T, 원슈타인) (Prod. Slom)</a>, <a href=\"https://music.bugs.co.kr/artist/20073470?wl_ref=list_tr_10_chart\" onclick=\"\r\n",
            "\" title=\"sokodomo\">sokodomo</a>]\n"
          ]
        }
      ]
    },
    {
      "cell_type": "code",
      "metadata": {
        "colab": {
          "base_uri": "https://localhost:8080/",
          "height": 35
        },
        "id": "YE5eyFTERJl6",
        "outputId": "11b9162e-f1ee-4652-a2b4-cb040551cdc7"
      },
      "source": [
        "singer = song.select('p.artist > a')[0].text\n",
        "singer"
      ],
      "execution_count": null,
      "outputs": [
        {
          "output_type": "execute_result",
          "data": {
            "application/vnd.google.colaboratory.intrinsic+json": {
              "type": "string"
            },
            "text/plain": [
              "'sokodomo'"
            ]
          },
          "metadata": {},
          "execution_count": 36
        }
      ]
    },
    {
      "cell_type": "code",
      "metadata": {
        "id": "Spvq_zMsTa0W"
      },
      "source": [
        "song_data=[]\n",
        "rank = 1\n",
        "\n",
        "songs = soup.select('table.byChart > tbody > tr')\n",
        "\n",
        "for i in songs:\n",
        "  title = song.select('p.title > a')[0].text\n",
        "  singer = song.select('p.artist > a')[0].text\n",
        "  song_data.append(['bugs',rank, title, singer])\n",
        "  rank += 1\n",
        "\n",
        "columns = ['서비스', '순위', '타이틀', '가수']\n",
        "df = pd.DataFrame(song_data, columns = columns)\n",
        "\n",
        "df.to_excel('bugs.xlsx', index = False)"
      ],
      "execution_count": null,
      "outputs": []
    },
    {
      "cell_type": "code",
      "metadata": {
        "id": "jXuxma-2VOL3"
      },
      "source": [
        "df"
      ],
      "execution_count": null,
      "outputs": []
    },
    {
      "cell_type": "code",
      "metadata": {
        "id": "SAegZRHlUgTg"
      },
      "source": [
        "# \n",
        "#   지니\n",
        "# "
      ],
      "execution_count": null,
      "outputs": []
    },
    {
      "cell_type": "code",
      "metadata": {
        "id": "nNNIPw4oUyU-"
      },
      "source": [
        "import requests  # 웹페이지 읽어오기\n",
        "from bs4 import BeautifulSoup as bs \n",
        "import pandas as pd"
      ],
      "execution_count": null,
      "outputs": []
    },
    {
      "cell_type": "code",
      "metadata": {
        "id": "S0JhKd2GU1YC"
      },
      "source": [
        "url = 'https://www.genie.co.kr/chart/top200'\n",
        "\n",
        "html = requests.get(url)\n",
        "\n",
        "soup = bs(html.text, 'html.parser')"
      ],
      "execution_count": null,
      "outputs": []
    },
    {
      "cell_type": "code",
      "metadata": {
        "colab": {
          "base_uri": "https://localhost:8080/"
        },
        "id": "tuO-lUz_U_hK",
        "outputId": "5eb102ab-deef-4e16-bf46-34cc7cd6c217"
      },
      "source": [
        "print(soup)"
      ],
      "execution_count": null,
      "outputs": [
        {
          "output_type": "stream",
          "name": "stdout",
          "text": [
            "<br/>\n",
            "<br/>\n",
            "<center>\n",
            "<img src=\"http://www.geniemusic.co.kr/images/common/logo_r1.png\"/><br/>\n",
            "<h2> <meta content=\"text/html;charset=utf-8\" http-equiv=\"Content-Type\"/> ì ììì²­ì´ ë³´ìì ì±ì ìí´ ì°¨ë¨ëììµëë¤. ë¹ì¬ ê³ ê°ì¼í°ë¡ ë¬¸ìí´ì£¼ì­ìì¤.<br/><br/>\r\n",
            "The security policy of the connection request is blocked. Contact your customer service representative.<br/><br/>\r\n",
            "ì§ëë®¤ì§ ê³ ê°ì¼í° 1577-5337<br/><br/>\n",
            "</h2>\n",
            "</center>\n",
            "<br/>\n"
          ]
        }
      ]
    }
  ]
}